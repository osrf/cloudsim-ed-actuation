{
 "metadata": {
  "name": "Alt_Control_Test"
 }, 
 "nbformat": 2, 
 "worksheets": [
  {
   "cells": [
    {
     "cell_type": "code", 
     "collapsed": false, 
     "input": [
      "# Imports", 
      "import rospy", 
      "import roslib; roslib.load_manifest('cloudsim_ed_actuation')", 
      "from std_msgs.msg import String", 
      "from geometry_msgs.msg import Twist"
     ], 
     "language": "python", 
     "outputs": [], 
     "prompt_number": 16
    }, 
    {
     "cell_type": "code", 
     "collapsed": true, 
     "input": [
      "# Send Messages", 
      "def move_bot(left, right):", 
      "    rospy.init_node('ipynb_controller')", 
      "    pub = rospy.Publisher('set_force', Twist)", 
      "    ", 
      "    twist = Twist()", 
      "    twist.linear.x = left", 
      "    twist.linear.y = right", 
      "    ", 
      "    pub.publish(twist)", 
      "    ", 
      "    print (\"pub on going\")"
     ], 
     "language": "python", 
     "outputs": [], 
     "prompt_number": 68
    }, 
    {
     "cell_type": "code", 
     "collapsed": false, 
     "input": [
      "from IPython.core.display import HTML", 
      "", 
      "input_form = \"\"\"", 
      "<div>", 
      "Left Motor <input type=\"range\" min=\"0\" max=\"1\" step=\"0.01\" id=\"pose1\" value=\"0\">", 
      "<span id=\"poseValue1\"> 1 </span></p>", 
      "Right Motor <input type=\"range\" min=\"0\" max=\"1\" step=\"0.01\" id=\"pose2\" value=\"0\">", 
      "<span id=\"poseValue2\"> 1 </span></p>", 
      "<button onclick=\"set_force()\">Try</button>", 
      "</div>", 
      "\"\"\"", 
      "", 
      "javascript = \"\"\"", 
      "<script = \"text/Javascript\">", 
      "    function set_force() ", 
      "    {", 
      "        var poseValue1 = document.getElementById(\"pose1\").value;", 
      "        var poseValue2 = document.getElementById(\"pose2\").value;", 
      "        ", 
      "        var kernel = IPython.notebook.kernel;", 
      "        kernel.execute(\"move_bot(poseValue1, poseValue2)\");", 
      "    }", 
      "</script>", 
      "\"\"\"", 
      "", 
      "HTML(input_form + javascript)"
     ], 
     "language": "python", 
     "outputs": [
      {
       "html": [
        "", 
        "<div>", 
        "Left Motor <input type=\"range\" min=\"0\" max=\"1\" step=\"0.01\" id=\"pose1\" value=\"0\">", 
        "<span id=\"poseValue1\"> 1 </span></p>", 
        "Right Motor <input type=\"range\" min=\"0\" max=\"1\" step=\"0.01\" id=\"pose2\" value=\"0\">", 
        "<span id=\"poseValue2\"> 1 </span></p>", 
        "<button onclick=\"set_force()\">Try</button>", 
        "</div>", 
        "", 
        "<script = \"text/Javascript\">", 
        "    function set_force() ", 
        "    {", 
        "        var poseValue1 = document.getElementById(\"pose1\").value;", 
        "        var poseValue2 = document.getElementById(\"pose2\").value;", 
        "        ", 
        "        var kernel = IPython.notebook.kernel;", 
        "        kernel.execute(\"move_bot(poseValue1, poseValue2)\");", 
        "    }", 
        "</script>"
       ], 
       "output_type": "pyout", 
       "prompt_number": 66, 
       "text": [
        "<IPython.core.display.HTML at 0x3430c50>"
       ]
      }
     ], 
     "prompt_number": 66
    }, 
    {
     "cell_type": "code", 
     "collapsed": false, 
     "input": [], 
     "language": "python", 
     "outputs": [], 
     "prompt_number": 44
    }, 
    {
     "cell_type": "code", 
     "collapsed": false, 
     "input": [
      "# alternative control", 
      "!rostopic pub -1 set_force geometry_msgs/Twist '[0.3, 0, 0]' '[0, 0, 0]'"
     ], 
     "language": "python", 
     "outputs": [
      {
       "output_type": "stream", 
       "stream": "stdout", 
       "text": [
        "publishing and latching message for 3.0 seconds"
       ]
      }
     ], 
     "prompt_number": 65
    }, 
    {
     "cell_type": "code", 
     "collapsed": true, 
     "input": [], 
     "language": "python", 
     "outputs": []
    }
   ]
  }
 ]
}