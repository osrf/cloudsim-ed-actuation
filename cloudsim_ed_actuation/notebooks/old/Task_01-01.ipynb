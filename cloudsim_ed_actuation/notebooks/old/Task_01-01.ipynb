{
 "metadata": {
  "name": ""
 },
 "nbformat": 3,
 "nbformat_minor": 0,
 "worksheets": [
  {
   "cells": [
    {
     "cell_type": "heading",
     "level": 1,
     "metadata": {},
     "source": [
      "Welcome to CloudSim-Ed!"
     ]
    },
    {
     "cell_type": "markdown",
     "metadata": {},
     "source": [
      "Task 01 will introduce you to gzweb simulations and IPython notebook. Understanding how to run simulations will be important for running future tasks in CloudSim Ed. "
     ]
    },
    {
     "cell_type": "heading",
     "level": 2,
     "metadata": {},
     "source": [
      "Working with a Notebook"
     ]
    },
    {
     "cell_type": "code",
     "collapsed": true,
     "input": [
      "# This is a IPython Notebook code cell. To execute code in a cell you may: \n",
      "# (1) select a cell and press Shift+Enter\n",
      "# (2) click on the Run Cell button on the toolbar (looks like a Play Button)\n",
      "# (3) or select Cell > Run on the menubar\n",
      "#\n",
      "# Try executing this cell"
     ],
     "language": "python",
     "metadata": {
      "slideshow": {
       "slide_type": "slide"
      }
     },
     "outputs": []
    },
    {
     "cell_type": "markdown",
     "metadata": {},
     "source": [
      "Nothing happened...as expected! In Python, a hashtag (#) marks a comment in the code. Comments are useful for making notes and remembering things for later. \n",
      "\n",
      "Now try executing the next cell."
     ]
    },
    {
     "cell_type": "code",
     "collapsed": false,
     "input": [
      "# these are examples of assignment statements\n",
      "a = 1\n",
      "b = 2\n",
      "\n",
      "# this is an example of an arithmetic operation\n",
      "c = a + b\n",
      "\n",
      "# this is an example of \n",
      "print a,'+',b,'=',c\n"
     ],
     "language": "python",
     "metadata": {},
     "outputs": []
    },
    {
     "cell_type": "markdown",
     "metadata": {},
     "source": [
      "See what it did there? \n",
      "\n",
      "For additional resources to learn Python, see: https://wiki.python.org/moin"
     ]
    },
    {
     "cell_type": "code",
     "collapsed": true,
     "input": [
      "# Experiment with your own code here...\n"
     ],
     "language": "python",
     "metadata": {},
     "outputs": []
    },
    {
     "cell_type": "markdown",
     "metadata": {},
     "source": [
      "Aside from Python code, you can run system shell commands by placing an exclamation point (!) before the command."
     ]
    },
    {
     "cell_type": "code",
     "collapsed": true,
     "input": [
      "!lsb_release -a"
     ],
     "language": "python",
     "metadata": {},
     "outputs": []
    },
    {
     "cell_type": "markdown",
     "metadata": {},
     "source": [
      "Executing the code above will show you the details of the operating system running the simulation."
     ]
    },
    {
     "cell_type": "code",
     "collapsed": false,
     "input": [
      "# try !ping www.google.com"
     ],
     "language": "python",
     "metadata": {},
     "outputs": []
    },
    {
     "cell_type": "markdown",
     "metadata": {},
     "source": [
      "If you tried the ping command above, make sure you press the interrupt button on the tool bar (the black square beside run) or select Kernel > Interrupt before the output gets out of hand. This is equivalent to pressing ctrl+c in the command line."
     ]
    },
    {
     "cell_type": "heading",
     "level": 2,
     "metadata": {},
     "source": [
      "Working with CloudSim-Ed Simulations"
     ]
    },
    {
     "cell_type": "markdown",
     "metadata": {},
     "source": [
      "On CloudSim, ROS and Gazebo...."
     ]
    },
    {
     "cell_type": "code",
     "collapsed": false,
     "input": [
      "# List all Topics\n",
      "!rostopic list"
     ],
     "language": "python",
     "metadata": {},
     "outputs": [
      {
       "output_type": "stream",
       "stream": "stdout",
       "text": [
        "/battery_msg\r\n",
        "/clock\r\n",
        "/dd/cmd_vel\r\n",
        "/dd/odom\r\n",
        "/gazebo/link_states\r\n",
        "/gazebo/model_states\r\n",
        "/gazebo/parameter_descriptions\r\n",
        "/gazebo/parameter_updates\r\n",
        "/gazebo/set_link_state\r\n",
        "/gazebo/set_model_state\r\n",
        "/rosout\r\n",
        "/rosout_agg\r\n",
        "/set_force\r\n",
        "/tf\r\n",
        "/vrc_score\r\n"
       ]
      }
     ],
     "prompt_number": 1
    },
    {
     "cell_type": "code",
     "collapsed": false,
     "input": [
      "# Listen to Messages\n",
      "!rostopic echo"
     ],
     "language": "python",
     "metadata": {},
     "outputs": []
    },
    {
     "cell_type": "code",
     "collapsed": false,
     "input": [
      "# Send Messages\n",
      "!rostopic pub "
     ],
     "language": "python",
     "metadata": {},
     "outputs": []
    },
    {
     "cell_type": "heading",
     "level": 2,
     "metadata": {},
     "source": [
      "Geometry Twist Control"
     ]
    },
    {
     "cell_type": "code",
     "collapsed": false,
     "input": [
      "!rostopic pub -1 set_force geometry_msgs/Twist '[0, 0, 0]' '[0, 0, 0]'"
     ],
     "language": "python",
     "metadata": {},
     "outputs": [
      {
       "output_type": "stream",
       "stream": "stdout",
       "text": [
        "publishing and latching message for 3.0 seconds\r\n"
       ]
      }
     ],
     "prompt_number": 3
    },
    {
     "cell_type": "heading",
     "level": 2,
     "metadata": {},
     "source": [
      "Summary"
     ]
    },
    {
     "cell_type": "markdown",
     "metadata": {},
     "source": [
      "+ To run python code in a Cell, use Shift + Enter\n",
      "+ To run system shell commands place an exclamation point before the command\n",
      "+ To send an interrupt when executing shell commands, press the Interrupt Button on the toolbar\n",
      "+ To view ROS topics, use !rostopic list\n",
      "+ To send ROS messages to ROS topics, use !rostopic pub <topic> <topic type> <message>"
     ]
    },
    {
     "cell_type": "heading",
     "level": 2,
     "metadata": {},
     "source": [
      "Troubleshooting"
     ]
    },
    {
     "cell_type": "markdown",
     "metadata": {},
     "source": [
      "+ If unable to communicate with master, make sure to check the simulator status. Restart if necessary."
     ]
    },
    {
     "cell_type": "heading",
     "level": 2,
     "metadata": {},
     "source": [
      "References"
     ]
    },
    {
     "cell_type": "markdown",
     "metadata": {},
     "source": [
      "+ Python\n",
      "+ ROS"
     ]
    },
    {
     "cell_type": "code",
     "collapsed": false,
     "input": [],
     "language": "python",
     "metadata": {},
     "outputs": []
    }
   ],
   "metadata": {}
  }
 ]
}