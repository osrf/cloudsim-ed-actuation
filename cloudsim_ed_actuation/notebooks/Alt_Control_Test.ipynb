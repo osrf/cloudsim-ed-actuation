{
 "metadata": {
  "name": "Alt_Control_Test"
 }, 
 "nbformat": 2, 
 "worksheets": [
  {
   "cells": [
    {
     "cell_type": "markdown", 
     "source": [
      "Control Test", 
      "===================="
     ]
    }, 
    {
     "cell_type": "code", 
     "collapsed": true, 
     "input": [
      "# Imports", 
      "import rospy", 
      "import roslib; roslib.load_manifest('cloudsim_ed_actuation')", 
      "from std_msgs.msg import String", 
      "from geometry_msgs.msg import Twist"
     ], 
     "language": "python", 
     "outputs": [], 
     "prompt_number": 1
    }, 
    {
     "cell_type": "code", 
     "collapsed": true, 
     "input": [
      "# Send Messages", 
      "def move_bot(val1, val2):", 
      "    rospy.init_node('ipynb_controller')", 
      "    pub = rospy.Publisher('set_force', Twist)", 
      "    ", 
      "    twist = Twist()", 
      "    twist.linear.x = val1", 
      "    twist.linear.y = val2", 
      "    ", 
      "    pub.publish(twist)", 
      "    ", 
      "    print (\"pub on going\")"
     ], 
     "language": "python", 
     "outputs": [], 
     "prompt_number": 2
    }, 
    {
     "cell_type": "code", 
     "collapsed": false, 
     "input": [
      "from IPython.core.display import HTML", 
      "", 
      "input_form = \"\"\"", 
      "<style>", 
      "label { display: inline-block; float: left; clear: left; width: 100px;}", 
      "input { display: inline-block; float: left;}", 
      "</style>", 
      "</br>", 
      "<div>", 
      "<label>Left Motor</label> <input type=\"range\" min=\"0\" max=\"5\" step=\"0.01\" id=\"pose1\" value=\"0\"></br>", 
      "", 
      "<label>Right Motor</label> <input type=\"range\" min=\"0\" max=\"5\" step=\"0.01\" id=\"pose2\" value=\"0\"></br>", 
      "", 
      "<button onclick=\"set_force()\">Try</button>", 
      "</div>", 
      "\"\"\"", 
      "", 
      "javascript = \"\"\"", 
      "<script type = \"text/Javascript\">", 
      "    function set_force() ", 
      "    {", 
      "        var poseValue1 = parseFloat(document.getElementById(\"pose1\").value);", 
      "        var poseValue2 = parseFloat(document.getElementById(\"pose2\").value);", 
      "        ", 
      "        var kernel = IPython.notebook.kernel;", 
      "        kernel.execute(\"move_bot(poseValue1), poseValue2)\");", 
      "    }", 
      "</script>", 
      "\"\"\"", 
      "", 
      "HTML(input_form + javascript)"
     ], 
     "language": "python", 
     "outputs": [
      {
       "html": [
        "", 
        "<style>", 
        "label { display: inline-block; float: left; clear: left; width: 100px;}", 
        "input { display: inline-block; float: left;}", 
        "</style>", 
        "</br>", 
        "<div>", 
        "<label>Left Motor</label> <input type=\"range\" min=\"0\" max=\"5\" step=\"0.01\" id=\"pose1\" value=\"0\"></br>", 
        "", 
        "<label>Right Motor</label> <input type=\"range\" min=\"0\" max=\"5\" step=\"0.01\" id=\"pose2\" value=\"0\"></br>", 
        "", 
        "<button onclick=\"set_force()\">Try</button>", 
        "</div>", 
        "", 
        "<script type = \"text/Javascript\">", 
        "    function set_force() ", 
        "    {", 
        "        var poseValue1 = parseFloat(document.getElementById(\"pose1\").value);", 
        "        var poseValue2 = parseFloat(document.getElementById(\"pose2\").value);", 
        "        ", 
        "        var kernel = IPython.notebook.kernel;", 
        "        kernel.execute(\"move_bot(poseValue1), poseValue2)\");", 
        "    }", 
        "</script>"
       ], 
       "output_type": "pyout", 
       "prompt_number": 87, 
       "text": [
        "<IPython.core.display.HTML at 0x30314d0>"
       ]
      }
     ], 
     "prompt_number": 87
    }, 
    {
     "cell_type": "code", 
     "collapsed": true, 
     "input": [], 
     "language": "python", 
     "outputs": [], 
     "prompt_number": 86
    }, 
    {
     "cell_type": "code", 
     "collapsed": false, 
     "input": [
      "# alternative control", 
      "!rostopic pub -1 set_force geometry_msgs/Twist '[0.1, 0, 0]' '[0, 0, 0]'"
     ], 
     "language": "python", 
     "outputs": [
      {
       "output_type": "stream", 
       "stream": "stdout", 
       "text": [
        "publishing and latching message for 3.0 seconds"
       ]
      }
     ], 
     "prompt_number": 23
    }, 
    {
     "cell_type": "code", 
     "collapsed": false, 
     "input": [
      "move_bot(float(0.01), float(0.01))"
     ], 
     "language": "python", 
     "outputs": [
      {
       "output_type": "stream", 
       "stream": "stdout", 
       "text": [
        "pub on going"
       ]
      }
     ], 
     "prompt_number": 13
    }, 
    {
     "cell_type": "code", 
     "collapsed": true, 
     "input": [], 
     "language": "python", 
     "outputs": [], 
     "prompt_number": 12
    }, 
    {
     "cell_type": "code", 
     "collapsed": true, 
     "input": [], 
     "language": "python", 
     "outputs": []
    }
   ]
  }
 ]
}