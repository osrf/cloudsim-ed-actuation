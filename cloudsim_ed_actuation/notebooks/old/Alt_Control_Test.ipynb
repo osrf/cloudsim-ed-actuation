{
 "metadata": {
  "name": ""
 },
 "nbformat": 3,
 "nbformat_minor": 0,
 "worksheets": [
  {
   "cells": [
    {
     "cell_type": "markdown",
     "metadata": {},
     "source": [
      "Control Test\n",
      "===================="
     ]
    },
    {
     "cell_type": "code",
     "collapsed": true,
     "input": [
      "# Imports\n",
      "import rospy\n",
      "import roslib; roslib.load_manifest('cloudsim_ed_actuation')\n",
      "from std_msgs.msg import String\n",
      "from geometry_msgs.msg import Twist"
     ],
     "language": "python",
     "metadata": {},
     "outputs": [],
     "prompt_number": 1
    },
    {
     "cell_type": "code",
     "collapsed": true,
     "input": [
      "x = 0.0\n",
      "y = 0.0\n",
      "\n",
      "def move_bot():\n",
      "    rospy.init_node('ipynb_controller_alt')\n",
      "    pub = rospy.Publisher('set_force', Twist)\n",
      "    \n",
      "    twist = Twist()\n",
      "    twist.linear.x = x\n",
      "    twist.linear.y = y\n",
      "    \n",
      "    pub.publish(twist)"
     ],
     "language": "python",
     "metadata": {},
     "outputs": [],
     "prompt_number": 2
    },
    {
     "cell_type": "code",
     "collapsed": false,
     "input": [
      "from IPython.core.display import HTML\n",
      "\n",
      "input_form = \"\"\"\n",
      "Right Wheel <input type=\"range\" min=\"0\" max=\"1\" step=\"0.01\" id=\"pose1\" value=\"0\">\n",
      "<span id=\"poseValue1\">0</span></p>\n",
      "Left Wheel <input type=\"range\" min=\"0\" max=\"1\" step=\"0.01\" id=\"pose2\" value=\"0\">\n",
      "<span id=\"poseValue2\">0</span></p>\n",
      "\"\"\"\n",
      "\n",
      "javascript = \"\"\"\n",
      "<script>\n",
      "$(function(){\n",
      "    var poseValue1 = $('#poseValue1')\n",
      "    $('#pose1').change(function() {\n",
      "        var kernel = IPython.notebook.kernel;\n",
      "        kernel.execute(\"pose1_val = float(\"+this.value+\"); move_bot()\")\n",
      "        poseValue1.html(this.value);\n",
      "    });\n",
      "    $('#pose1').change();\n",
      "    \n",
      "    var poseValue2 = $('#poseValue2')\n",
      "    $('#pose2').change(function() {\n",
      "        var kernel = IPython.notebook.kernel;\n",
      "        kernel.execute(\"pose2_val = float(\"+this.value+\"); move_bot()\")\n",
      "        poseValue2.html(this.value);\n",
      "    });\n",
      "    $('#pose2').change();\n",
      "});\n",
      "</script>\n",
      "\"\"\"\n",
      "\n",
      "HTML(input_form + javascript)"
     ],
     "language": "python",
     "metadata": {},
     "outputs": [
      {
       "html": [
        "\n",
        "Right Wheel <input type=\"range\" min=\"0\" max=\"1\" step=\"0.01\" id=\"pose1\" value=\"0\">\n",
        "<span id=\"poseValue1\">0</span></p>\n",
        "Left Wheel <input type=\"range\" min=\"0\" max=\"1\" step=\"0.01\" id=\"pose2\" value=\"0\">\n",
        "<span id=\"poseValue2\">0</span></p>\n",
        "\n",
        "<script>\n",
        "$(function(){\n",
        "    var poseValue1 = $('#poseValue1')\n",
        "    $('#pose1').change(function() {\n",
        "        var kernel = IPython.notebook.kernel;\n",
        "        kernel.execute(\"pose1_val = float(\"+this.value+\"); move_bot()\")\n",
        "        poseValue1.html(this.value);\n",
        "    });\n",
        "    $('#pose1').change();\n",
        "    \n",
        "    var poseValue2 = $('#poseValue2')\n",
        "    $('#pose2').change(function() {\n",
        "        var kernel = IPython.notebook.kernel;\n",
        "        kernel.execute(\"pose2_val = float(\"+this.value+\"); move_bot()\")\n",
        "        poseValue2.html(this.value);\n",
        "    });\n",
        "    $('#pose2').change();\n",
        "});\n",
        "</script>\n"
       ],
       "metadata": {},
       "output_type": "pyout",
       "prompt_number": 3,
       "text": [
        "<IPython.core.display.HTML at 0x2ab9b90>"
       ]
      }
     ],
     "prompt_number": 3
    },
    {
     "cell_type": "code",
     "collapsed": true,
     "input": [],
     "language": "python",
     "metadata": {},
     "outputs": []
    },
    {
     "cell_type": "code",
     "collapsed": false,
     "input": [
      "# alternative control\n",
      "!rostopic pub -1 set_force geometry_msgs/Twist '[0.1, 0, 0]' '[0, 0, 0]'"
     ],
     "language": "python",
     "metadata": {},
     "outputs": []
    },
    {
     "cell_type": "code",
     "collapsed": false,
     "input": [
      "move_bot()"
     ],
     "language": "python",
     "metadata": {},
     "outputs": [],
     "prompt_number": 5
    },
    {
     "cell_type": "code",
     "collapsed": true,
     "input": [],
     "language": "python",
     "metadata": {},
     "outputs": []
    },
    {
     "cell_type": "code",
     "collapsed": true,
     "input": [],
     "language": "python",
     "metadata": {},
     "outputs": []
    }
   ],
   "metadata": {}
  }
 ]
}