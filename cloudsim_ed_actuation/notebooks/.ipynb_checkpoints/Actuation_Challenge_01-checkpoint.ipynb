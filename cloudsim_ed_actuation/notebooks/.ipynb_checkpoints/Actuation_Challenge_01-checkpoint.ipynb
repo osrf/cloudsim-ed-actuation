{
 "metadata": {
  "name": ""
 },
 "nbformat": 3,
 "nbformat_minor": 0,
 "worksheets": [
  {
   "cells": [
    {
     "cell_type": "heading",
     "level": 1,
     "metadata": {},
     "source": [
      "Robot Actuation Challenge"
     ]
    },
    {
     "cell_type": "markdown",
     "metadata": {},
     "source": [
      "Control the differential drive robot to reach the final gate on the other end of test track. Your final score will depend on the following criteria:\n",
      "\n",
      "+ The number of score gates the robot passes through\n",
      "+ The robot must reach the final gate\n",
      "+ Battery conservation will be rewarded\n",
      "\n",
      "*Final notes:*\n",
      "\n",
      "+ Battery and motor parameters can only be set once, before the robot passes the first gate\n",
      "+ All batteries start at 80% capacity\n",
      "+ Enjoy :)"
     ]
    },
    {
     "cell_type": "heading",
     "level": 3,
     "metadata": {},
     "source": [
      "To Check Available Topics"
     ]
    },
    {
     "cell_type": "code",
     "collapsed": false,
     "input": [
      "!rostopic list"
     ],
     "language": "python",
     "metadata": {},
     "outputs": []
    },
    {
     "cell_type": "heading",
     "level": 3,
     "metadata": {},
     "source": [
      "To Change Motor and Battery Parameters"
     ]
    },
    {
     "cell_type": "markdown",
     "metadata": {},
     "source": [
      "Battery and Motor profiles come in three settings: small, medium, and large. The default profile is medium. Specifics are found in the table below.\n",
      "\n",
      "<center>\n",
      "<table width=50%>\n",
      "<tr><th>Battery Profile</th><th>small</th><th>medium</th><th>large</th></tr>\n",
      "<tr><td>Rated Capacity (Ah)</td><td>1.6</td><td>3.0</td><td>5.0</td></tr>\n",
      "<tr><td>Nominal Voltage (V)</td><td>6.0</td><td>12.0</td><td>24.0</td></tr>\n",
      "\n",
      "<tr><th>Motor Profile</th><th>small</th><th>medium</th><th>large</th></tr>\n",
      "<tr><td>Rated Voltage (V)</td><td>6.0</td><td>12.0</td><td>24.0</td></tr>\n",
      "<tr><td>Torque (Nm)</td><td>0.21</td><td>1.2</td><td>7.9</td></tr>\n",
      "<tr><td>Max RPM</td><td>1000</td><td>9960</td><td>1033</td></tr>\n",
      "\n",
      "</table>\n",
      "</center>"
     ]
    },
    {
     "cell_type": "code",
     "collapsed": false,
     "input": [
      "!rosparam set battery/profile 'small'"
     ],
     "language": "python",
     "metadata": {},
     "outputs": []
    },
    {
     "cell_type": "markdown",
     "metadata": {},
     "source": [
      "### Control the robot directly through rostopic\n",
      "The command below shows how to send Twist messages to control the robot"
     ]
    },
    {
     "cell_type": "code",
     "collapsed": false,
     "input": [
      "!rostopic pub -1 set_vel geometry_msgs/Twist '[0.1, 0, 0]' '[0, 0, 0]'"
     ],
     "language": "python",
     "metadata": {},
     "outputs": []
    },
    {
     "cell_type": "markdown",
     "metadata": {},
     "source": [
      "### GUI Controls with ROS Nodes and Javascript\n",
      "The Python code below is an example "
     ]
    },
    {
     "cell_type": "code",
     "collapsed": true,
     "input": [
      "# Standard library imports commands\n",
      "\n",
      "import rospy\n",
      "from std_msgs.msg import String\n",
      "from geometry_msgs.msg import Twist"
     ],
     "language": "python",
     "metadata": {},
     "outputs": []
    },
    {
     "cell_type": "code",
     "collapsed": true,
     "input": [
      "# Command Publisher Node\n",
      "x = 0.0\n",
      "rotation = 0.0\n",
      "\n",
      "def move_bot():\n",
      "    rospy.init_node('ipynb_controller_0')\n",
      "    pub = rospy.Publisher('set_vel', Twist)\n",
      "    \n",
      "    twist = Twist()\n",
      "    twist.linear.x = x\n",
      "    twist.angular.z = rotation\n",
      "    \n",
      "    pub.publish(twist)"
     ],
     "language": "python",
     "metadata": {},
     "outputs": []
    },
    {
     "cell_type": "markdown",
     "metadata": {},
     "source": [
      "###Javascript GUI Controls\n",
      "Copy-paste the code into the markdown cell below.\n",
      "***\n",
      "\n",
      "```\n",
      "Forward Velocity <input type=\"range\" min=\"-1\" max=\"1\" step=\"0.01\" id=\"pose1\" value=\"0\">\n",
      "<span id=\"poseValue1\">0</span></p>\n",
      "Heading<input type=\"range\" min=\"-1\" max=\"1\" step=\"0.01\" id=\"pose2\" value=\"0\">\n",
      "<span id=\"poseValue2\">0</span></p>\n",
      "\n",
      "<script>\n",
      "$(function(){\n",
      "    var poseValue1 = $('#poseValue1')\n",
      "    $('#pose1').change(function() {\n",
      "        var kernel = IPython.notebook.kernel;\n",
      "        kernel.execute(\"x = float(\"+this.value+\"); move_bot()\")\n",
      "        poseValue1.html(this.value);\n",
      "    });\n",
      "    $('#pose1').change();\n",
      "    var poseValue2 = $('#poseValue2')\n",
      "    $('#pose2').change(function() {\n",
      "        var kernel = IPython.notebook.kernel;\n",
      "        kernel.execute(\"rotation = float(\"+this.value+\"); move_bot()\")\n",
      "        poseValue2.html(this.value);\n",
      "    });\n",
      "    $('#pose2').change();\n",
      "});\n",
      "</script>\n",
      "```\n",
      "***"
     ]
    },
    {
     "cell_type": "markdown",
     "metadata": {},
     "source": [
      "<center>:::::::::: ***REPLACE THIS MARKUP CELL WITH THE CODE ABOVE*** ::::::::::</center>"
     ]
    },
    {
     "cell_type": "code",
     "collapsed": false,
     "input": [],
     "language": "python",
     "metadata": {},
     "outputs": []
    }
   ],
   "metadata": {}
  }
 ]
}