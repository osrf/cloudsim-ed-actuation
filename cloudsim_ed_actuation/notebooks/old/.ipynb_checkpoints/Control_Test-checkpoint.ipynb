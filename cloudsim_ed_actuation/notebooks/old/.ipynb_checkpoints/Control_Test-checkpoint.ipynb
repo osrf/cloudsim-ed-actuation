{
 "metadata": {
  "name": ""
 },
 "nbformat": 3,
 "nbformat_minor": 0,
 "worksheets": [
  {
   "cells": [
    {
     "cell_type": "heading",
     "level": 1,
     "metadata": {},
     "source": [
      "Robot Actuation Challenge"
     ]
    },
    {
     "cell_type": "markdown",
     "metadata": {},
     "source": [
      "Control the differential drive robot to reach the final gate on the other end of test track. Your final score will depend on the following criteria:\n",
      "\n",
      "+ The number of score gates the robot passes through\n",
      "+ The robot must reach the final gate\n",
      "+ Battery conservation will be rewarded\n",
      "\n",
      "*Final notes:*\n",
      "\n",
      "+ Battery and motor parameters can only be set once, before the robot passes the first gate\n",
      "+ All batteries start at 50% capacity\n",
      "+ Enjoy :)"
     ]
    },
    {
     "cell_type": "code",
     "collapsed": false,
     "input": [
      "!rostopic list"
     ],
     "language": "python",
     "metadata": {},
     "outputs": []
    },
    {
     "cell_type": "markdown",
     "metadata": {},
     "source": [
      "### Control the robot directly through rostopic\n",
      "The command below shows how to send Twist messages to control the robot"
     ]
    },
    {
     "cell_type": "code",
     "collapsed": false,
     "input": [
      "!rostopic pub -1 set_force geometry_msgs/Twist '[0, 0, 0]' '[0, 0, 0]'"
     ],
     "language": "python",
     "metadata": {},
     "outputs": [
      {
       "output_type": "stream",
       "stream": "stdout",
       "text": [
        "publishing and latching message for 3.0 seconds\r\n"
       ]
      }
     ],
     "prompt_number": 3
    },
    {
     "cell_type": "markdown",
     "metadata": {},
     "source": [
      "### GUI Controls with ROS Nodes and Javascript\n",
      "The Python code below is an example "
     ]
    },
    {
     "cell_type": "code",
     "collapsed": true,
     "input": [
      "# Standard library imports commands\n",
      "\n",
      "import rospy\n",
      "import roslib; roslib.load_manifest('cloudsim_ed_actuation')\n",
      "from std_msgs.msg import String\n",
      "from geometry_msgs.msg import Twist"
     ],
     "language": "python",
     "metadata": {},
     "outputs": []
    },
    {
     "cell_type": "code",
     "collapsed": true,
     "input": [
      "# Command Publisher Node\n",
      "x = 0.0\n",
      "y = 0.0\n",
      "\n",
      "def move_bot():\n",
      "    rospy.init_node('ipynb_controller_0')\n",
      "    pub = rospy.Publisher('set_force', Twist)\n",
      "    \n",
      "    twist = Twist()\n",
      "    twist.linear.x = x\n",
      "    twist.linear.y = y\n",
      "    \n",
      "    pub.publish(twist)"
     ],
     "language": "python",
     "metadata": {},
     "outputs": []
    },
    {
     "cell_type": "markdown",
     "metadata": {},
     "source": [
      "###Javascript GUI Controls\n",
      "Copy-paste the code into the markdown cell below.\n",
      "***\n",
      "\n",
      "```\n",
      "Left Motor <input type=\"range\" min=\"0\" max=\"1\" step=\"0.01\" id=\"pose1\" value=\"0\">\n",
      "<span id=\"poseValue1\">0</span></p>\n",
      "Right Motor <input type=\"range\" min=\"0\" max=\"1\" step=\"0.01\" id=\"pose2\" value=\"0\">\n",
      "<span id=\"poseValue2\">0</span></p>\n",
      "\n",
      "<script>\n",
      "$(function(){\n",
      "    var poseValue1 = $('#poseValue1')\n",
      "    $('#pose1').change(function() {\n",
      "        var kernel = IPython.notebook.kernel;\n",
      "        kernel.execute(\"pose1_val = float(\"+this.value+\"); move_bot()\")\n",
      "        poseValue1.html(this.value);\n",
      "    });\n",
      "    $('#pose1').change();\n",
      "    var poseValue2 = $('#poseValue2')\n",
      "    $('#pose2').change(function() {\n",
      "        var kernel = IPython.notebook.kernel;\n",
      "        kernel.execute(\"pose2_val = float(\"+this.value+\"); move_bot()\")\n",
      "        poseValue2.html(this.value);\n",
      "    });\n",
      "    $('#pose2').change();\n",
      "});\n",
      "</script>\n",
      "```\n",
      "***"
     ]
    },
    {
     "cell_type": "markdown",
     "metadata": {},
     "source": [
      "<center>:::::::::: ***REPLACE THIS MARKUP CELL WITH THE CODE ABOVE*** ::::::::::</center>"
     ]
    },
    {
     "cell_type": "code",
     "collapsed": false,
     "input": [],
     "language": "python",
     "metadata": {},
     "outputs": []
    }
   ],
   "metadata": {}
  }
 ]
}