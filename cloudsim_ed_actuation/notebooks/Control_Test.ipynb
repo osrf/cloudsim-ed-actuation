{
 "metadata": {
  "name": "Control_Test"
 }, 
 "name": "Control_Test", 
 "nbformat": 2, 
 "worksheets": [
  {
   "cells": [
    {
     "cell_type": "code", 
     "collapsed": true, 
     "input": "# Test notebook for GUI controls", 
     "language": "python", 
     "outputs": [], 
     "prompt_number": "*"
    }, 
    {
     "cell_type": "code", 
     "collapsed": true, 
     "input": "# Imports\nimport rospy\nimport roslib; roslib.load_manifest('cloudsim-ed-actuation')\nfrom std_msgs.msg import String\nfrom geometry_msgs import Twist", 
     "language": "python", 
     "outputs": [], 
     "prompt_number": "*"
    }, 
    {
     "cell_type": "code", 
     "collapsed": true, 
     "input": "# Send Messages\ndef move_bot():\n    print \"1\"", 
     "language": "python", 
     "outputs": [], 
     "prompt_number": "*"
    }, 
    {
     "cell_type": "markdown", 
     "source": "Linear Velocity <input type=\"range\" min=\"-1\" max=\"1\" step=\"0.01\" id=\"pose1\" value=\"0\">\n<span id=\"poseValue1\">0</span></p>\nAngular Velocity <input type=\"range\" min=\"-1\" max=\"1\" step=\"0.01\" id=\"pose2\" value=\"0\">\n<span id=\"poseValue2\">0</span></p>\n<script>\n$(function(){\n    var poseValue1 = $('#poseValue1')\n    $('#pose1').change(function() {\n        var kernel = IPython.notebook.kernel;\n        kernel.execute(\"pose1_val = float(\"+this.value+\"); move_bot()\")\n        poseValue1.html(this.value);\n    });\n    $('#pose1').change();\n    var poseValue2 = $('#poseValue2')\n    $('#pose2').change(function() {\n        var kernel = IPython.notebook.kernel;\n        kernel.execute(\"pose2_val = float(\"+this.value+\"); move_bot()\")\n        poseValue2.html(this.value);\n    });\n    $('#pose2').change();\n   \n});\n</script>"
    }, 
    {
     "cell_type": "code", 
     "collapsed": true, 
     "input": "", 
     "language": "python", 
     "outputs": [], 
     "prompt_number": "*"
    }, 
    {
     "cell_type": "code", 
     "collapsed": true, 
     "input": "", 
     "language": "python", 
     "outputs": [], 
     "prompt_number": "*"
    }, 
    {
     "cell_type": "code", 
     "collapsed": true, 
     "input": "", 
     "language": "python", 
     "outputs": []
    }
   ]
  }
 ]
}