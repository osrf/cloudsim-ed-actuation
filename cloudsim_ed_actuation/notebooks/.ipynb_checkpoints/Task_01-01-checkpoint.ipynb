{
 "metadata": {
  "name": ""
 },
 "nbformat": 3,
 "nbformat_minor": 0,
 "worksheets": [
  {
   "cells": [
    {
     "cell_type": "heading",
     "level": 1,
     "metadata": {},
     "source": [
      "Welcome to CloudSim-Ed!"
     ]
    },
    {
     "cell_type": "markdown",
     "metadata": {},
     "source": [
      "Task 01 will introduce you to gzweb simulations and IPython notebook. Understanding how to run simulations will be important for running future tasks in CloudSim Ed. "
     ]
    },
    {
     "cell_type": "heading",
     "level": 2,
     "metadata": {},
     "source": [
      "Working with a Notebook"
     ]
    },
    {
     "cell_type": "code",
     "collapsed": true,
     "input": [
      "# This is a IPython Notebook code cell. To execute code in a cell you may: \n",
      "# (1) select a cell and press Shift+Enter\n",
      "# (2) click on the Run Cell button on the toolbar (looks like a Play Button)\n",
      "# (3) or select Cell > Run on the menubar\n",
      "#\n",
      "# Try executing this cell"
     ],
     "language": "python",
     "metadata": {
      "slideshow": {
       "slide_type": "slide"
      }
     },
     "outputs": []
    },
    {
     "cell_type": "markdown",
     "metadata": {},
     "source": [
      "Nothing happened...as expected! In Python, a hashtag (#) marks a comment in the code. Comments are useful for making notes and remembering things for later. \n",
      "\n",
      "Now try executing the next cell."
     ]
    },
    {
     "cell_type": "code",
     "collapsed": false,
     "input": [
      "# these are examples of assignment statements\n",
      "a = 1\n",
      "b = 2\n",
      "\n",
      "# this is an example of an arithmetic operation\n",
      "c = a + b\n",
      "\n",
      "# this is an example of \n",
      "print a,'+',b,'=',c\n"
     ],
     "language": "python",
     "metadata": {},
     "outputs": [
      {
       "output_type": "stream",
       "stream": "stdout",
       "text": [
        "1 + 2 = 3\n"
       ]
      }
     ],
     "prompt_number": 13
    },
    {
     "cell_type": "markdown",
     "metadata": {},
     "source": [
      "See what it did there? \n",
      "\n",
      "For additional resources to learn Python, see: https://wiki.python.org/moin"
     ]
    },
    {
     "cell_type": "code",
     "collapsed": true,
     "input": [
      "# Experiment with your own code here...\n"
     ],
     "language": "python",
     "metadata": {},
     "outputs": []
    },
    {
     "cell_type": "markdown",
     "metadata": {},
     "source": [
      "Aside from Python code, you can run system shell commands by placing an exclamation point (!) before the command."
     ]
    },
    {
     "cell_type": "code",
     "collapsed": true,
     "input": [
      "!lsb_release -a"
     ],
     "language": "python",
     "metadata": {},
     "outputs": [
      {
       "output_type": "stream",
       "stream": "stdout",
       "text": [
        "No LSB modules are available.\r\n",
        "Distributor ID:\tUbuntu\r\n",
        "Description:\tUbuntu 12.04.4 LTS\r\n",
        "Release:\t12.04\r\n",
        "Codename:\tprecise\r\n"
       ]
      }
     ],
     "prompt_number": 1
    },
    {
     "cell_type": "markdown",
     "metadata": {},
     "source": [
      "Executing the code above will show you the details of the operating system running the simulation."
     ]
    },
    {
     "cell_type": "code",
     "collapsed": false,
     "input": [
      "# try !ping www.google.com"
     ],
     "language": "python",
     "metadata": {},
     "outputs": [
      {
       "output_type": "stream",
       "stream": "stdout",
       "text": [
        "PING www.google.com (122.2.152.221) 56(84) bytes of data.\r\n"
       ]
      },
      {
       "output_type": "stream",
       "stream": "stdout",
       "text": [
        "64 bytes from www.google.com (122.2.152.221): icmp_req=1 ttl=128 time=87.1 ms\r\n"
       ]
      },
      {
       "output_type": "stream",
       "stream": "stdout",
       "text": [
        "64 bytes from www.google.com (122.2.152.221): icmp_req=2 ttl=128 time=44.6 ms\r\n"
       ]
      },
      {
       "output_type": "stream",
       "stream": "stdout",
       "text": [
        "64 bytes from www.google.com (122.2.152.221): icmp_req=3 ttl=128 time=48.8 ms\r\n"
       ]
      },
      {
       "output_type": "stream",
       "stream": "stdout",
       "text": [
        "64 bytes from www.google.com (122.2.152.221): icmp_req=4 ttl=128 time=48.0 ms\r\n"
       ]
      },
      {
       "output_type": "stream",
       "stream": "stdout",
       "text": [
        "64 bytes from www.google.com (122.2.152.221): icmp_req=5 ttl=128 time=43.7 ms\r\n"
       ]
      },
      {
       "output_type": "stream",
       "stream": "stdout",
       "text": [
        "64 bytes from www.google.com (122.2.152.221): icmp_req=6 ttl=128 time=44.2 ms\r\n"
       ]
      },
      {
       "output_type": "stream",
       "stream": "stdout",
       "text": [
        "64 bytes from www.google.com (122.2.152.221): icmp_req=7 ttl=128 time=48.0 ms\r\n"
       ]
      },
      {
       "output_type": "stream",
       "stream": "stdout",
       "text": [
        "64 bytes from www.google.com (122.2.152.221): icmp_req=8 ttl=128 time=44.9 ms\r\n"
       ]
      },
      {
       "output_type": "stream",
       "stream": "stdout",
       "text": [
        "64 bytes from www.google.com (122.2.152.221): icmp_req=9 ttl=128 time=137 ms\r\n"
       ]
      },
      {
       "output_type": "stream",
       "stream": "stdout",
       "text": [
        "64 bytes from www.google.com (122.2.152.221): icmp_req=10 ttl=128 time=45.9 ms\r\n"
       ]
      },
      {
       "output_type": "stream",
       "stream": "stdout",
       "text": [
        "64 bytes from www.google.com (122.2.152.221): icmp_req=11 ttl=128 time=46.9 ms\r\n"
       ]
      },
      {
       "output_type": "stream",
       "stream": "stdout",
       "text": [
        "^C\r\n",
        "--- www.google.com ping statistics ---\r\n",
        "11 packets transmitted, 11 received, 0% packet loss, time 10017ms\r\n",
        "rtt min/avg/max/mdev = 43.745/58.194/137.324/27.682 ms\r\n",
        "\r\n"
       ]
      }
     ],
     "prompt_number": 4
    },
    {
     "cell_type": "markdown",
     "metadata": {},
     "source": [
      "If you tried the ping command above, make sure you press the interrupt button on the tool bar (the black square beside run) or select Kernel > Interrupt before the output gets out of hand. This is equivalent to pressing ctrl+c in the command line."
     ]
    },
    {
     "cell_type": "heading",
     "level": 2,
     "metadata": {},
     "source": [
      "Working with CloudSim-Ed Simulations"
     ]
    },
    {
     "cell_type": "markdown",
     "metadata": {},
     "source": [
      "On CloudSim, ROS and Gazebo...."
     ]
    },
    {
     "cell_type": "code",
     "collapsed": false,
     "input": [
      "# List all Topics\n",
      "!rostopic list"
     ],
     "language": "python",
     "metadata": {},
     "outputs": [
      {
       "output_type": "stream",
       "stream": "stdout",
       "text": [
        "ERROR: Unable to communicate with master!\r\n"
       ]
      }
     ],
     "prompt_number": 5
    },
    {
     "cell_type": "code",
     "collapsed": false,
     "input": [
      "# Listen to Messages\n",
      "!rostopic echo"
     ],
     "language": "python",
     "metadata": {},
     "outputs": []
    },
    {
     "cell_type": "code",
     "collapsed": false,
     "input": [
      "# Send Messages\n",
      "!rostopic pub "
     ],
     "language": "python",
     "metadata": {},
     "outputs": []
    },
    {
     "cell_type": "heading",
     "level": 2,
     "metadata": {},
     "source": [
      "Summary"
     ]
    },
    {
     "cell_type": "markdown",
     "metadata": {},
     "source": [
      "+ To run python code in a Cell, use Shift + Enter\n",
      "+ To run system shell commands place an exclamation point before the command\n",
      "+ To send an interrupt when executing shell commands, press the Interrupt Button on the toolbar\n",
      "+ To view ROS topics, use !rostopic list\n",
      "+ To send ROS messages to ROS topics, use !rostopic pub <topic> <topic type> <message>"
     ]
    },
    {
     "cell_type": "heading",
     "level": 2,
     "metadata": {},
     "source": [
      "Troubleshooting"
     ]
    },
    {
     "cell_type": "markdown",
     "metadata": {},
     "source": [
      "+ If unable to communicate with master, make sure to check the simulator status. Restart if necessary."
     ]
    },
    {
     "cell_type": "heading",
     "level": 2,
     "metadata": {},
     "source": [
      "References"
     ]
    },
    {
     "cell_type": "markdown",
     "metadata": {},
     "source": [
      "+ Python\n",
      "+ ROS"
     ]
    },
    {
     "cell_type": "code",
     "collapsed": false,
     "input": [],
     "language": "python",
     "metadata": {},
     "outputs": []
    }
   ],
   "metadata": {}
  }
 ]
}