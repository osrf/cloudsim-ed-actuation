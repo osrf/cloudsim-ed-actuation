{
 "metadata": {
  "name": ""
 },
 "nbformat": 3,
 "nbformat_minor": 0,
 "worksheets": [
  {
   "cells": [
    {
     "cell_type": "code",
     "collapsed": false,
     "input": [
      "# Imports\n",
      "import rospy\n",
      "import roslib; roslib.load_manifest('cloudsim_ed_actuation')\n",
      "from std_msgs.msg import String\n",
      "from geometry_msgs.msg import Twist\n",
      "\n",
      "x = 0.0\n",
      "y = 0.0\n",
      "\n",
      "\n",
      "def move_bot():\n",
      "    rospy.init_node('ipynb_controller_0')\n",
      "    pub = rospy.Publisher('set_force', Twist)\n",
      "    \n",
      "    twist = Twist()\n",
      "    twist.linear.x = x\n",
      "    twist.linear.y = y\n",
      "    \n",
      "    pub.publish(twist)"
     ],
     "language": "python",
     "metadata": {},
     "outputs": [],
     "prompt_number": 2
    },
    {
     "cell_type": "markdown",
     "metadata": {},
     "source": [
      "Axis 1 <input type=\"range\" min=\"0\" max=\"1\" step=\"0.01\" id=\"pose1\" value=\"0\">\n",
      "<span id=\"poseValue1\">0</span></p>\n",
      "Axis 2 <input type=\"range\" min=\"0\" max=\"1\" step=\"0.01\" id=\"pose2\" value=\"0\">\n",
      "<span id=\"poseValue2\">0</span></p>\n",
      "\n",
      "<script>\n",
      "$(function(){\n",
      "    var poseValue1 = $('#poseValue1')\n",
      "    $('#pose1').change(function() {\n",
      "        var kernel = IPython.notebook.kernel;\n",
      "        kernel.execute(\"pose1_val = float(\"+this.value+\"); move_bot()\")\n",
      "        poseValue1.html(this.value);\n",
      "    });\n",
      "    $('#pose1').change();\n",
      "    \n",
      "    var poseValue2 = $('#poseValue2')\n",
      "    $('#pose2').change(function() {\n",
      "        var kernel = IPython.notebook.kernel;\n",
      "        kernel.execute(\"pose2_val = float(\"+this.value+\"); move_bot()\")\n",
      "        poseValue2.html(this.value);\n",
      "    });\n",
      "    $('#pose2').change();\n",
      "});\n",
      "</script>"
     ]
    },
    {
     "cell_type": "code",
     "collapsed": false,
     "input": [],
     "language": "python",
     "metadata": {},
     "outputs": []
    }
   ],
   "metadata": {}
  }
 ]
}